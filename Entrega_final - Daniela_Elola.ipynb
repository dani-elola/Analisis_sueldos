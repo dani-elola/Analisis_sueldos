{
 "cells": [
  {
   "cell_type": "markdown",
   "id": "2a1ea87b-faa9-4b00-a8ee-555cf4694c6e",
   "metadata": {},
   "source": [
    "# Entrega final\n",
    "\n",
    "**(Se requiere el notebook \"Análisis de sueldos\" resuelto)**"
   ]
  },
  {
   "cell_type": "markdown",
   "id": "d4975286-13ed-4cf9-b9a4-d85273f6f253",
   "metadata": {},
   "source": [
    "En base a los resultados obtenidos en *\"Análisis de sueldos\"* confeccionar conclusiones respecto a:\n",
    "\n",
    "- Rol vs sueldos\n",
    "- Nivel de educación alcanzada vs sueldos\n",
    "- Género vs sueldos\n",
    "- Tecnologías populares"
   ]
  },
  {
   "cell_type": "raw",
   "id": "b3a0a383-8109-45f0-bf2c-de10fb530519",
   "metadata": {},
   "source": [
    "Del análisis Rol vs Sueldos surge que los roles de: Security Analist y DBA / Developer , en base a la mediana de salarios, son exponencialmente más altos que roles vinculados a tareas operativas y/o manuales como: Chef y Artesanal.\n",
    "Se grafica la relación entre los 5 roles cuya mediana de sueldos es la más alta.\n",
    "\n",
    "\n",
    "Del análisis Nivel de educación alcanzado vs sueldos, dejando fuera los niveles Primario y Postdoctorado, se concluye que la relación es directamente proporcional, a mayor nivel educativo alcanzado, mayor es la mediana de ingresos.\n",
    "Quienes tienen nivel doctorado perciben un 1,57 veces más de sueldo (comparando medianas), que los que alcanzaron nivel secundario.\n",
    "Se grafica la relación.\n",
    "\n",
    "\n",
    "Del análisis Género vs Sueldos se deduce que los hombres 1.45 veces más que las mujeres ocupando roles de similar responsabilidad, es decir que los sueldos de hombres son 45% más altos que los de mujeres.\n",
    "Se grafica la relación.\n",
    "\n",
    "\n",
    "De los datos obtenidos en el análisis se concluye que las 3 tecnologías más populares son:\n",
    " MySQL con 1523 menciones entre los encuestados\n",
    " React.js con 1044 menciones entre los encuestados\n",
    " PostgreSQL - 1018 menciones entre los encuestados\n",
    "Se grafica la relación.\n",
    "\n",
    "\n"
   ]
  },
  {
   "cell_type": "markdown",
   "id": "9dee1c42-e2ff-47fb-b892-9aa835c47e4d",
   "metadata": {},
   "source": [
    "Generar gráficos de barra para mostrar los resultados mencionados anteriormente usando strings, ej:\n",
    "\n",
    "```\n",
    "developer | -----------------------------------------------\n",
    "sysadmin  | ---------------------------\n",
    "QA        | ------------------\n",
    "          | -----------------5%--------10%----------------40%\n",
    "```"
   ]
  },
  {
   "cell_type": "code",
   "execution_count": 31,
   "id": "9f7f6474-d3eb-47bf-8c5b-9ae92bdca096",
   "metadata": {},
   "outputs": [
    {
     "name": "stdout",
     "output_type": "stream",
     "text": [
      "Security Analist          | -----------------------------------------------------------------------------------\n",
      "DBA / Developer           | ---------------------------------------------------------------------\n",
      "Implementador de Sistemas | -----------------------------------\n",
      "Director of DevOps and IT | -------------\n",
      "Research Engineer         | -----------\n",
      "                          | ---------14%-16%------------------41%--------------------------------83%----------100%\n"
     ]
    }
   ],
   "source": [
    "\"Rol VS Sueldos\"\n",
    "\n",
    "sa = '-'*83\n",
    "dba= '-'*69\n",
    "ides = '-'*35\n",
    "ddevops = '-'*13\n",
    "re = '-'*11\n",
    "porcent1 = '-'*9 + \"14%\" + '-'*1 + \"16%\" + '-'*18 + \"41%\" + '-'*32 + \"83%\" + '-'*10 + \"100%\"\n",
    "\n",
    "print(\"Security Analist         \" + \" | \" + sa)\n",
    "print(\"DBA / Developer          \" + \" | \" + dba)\n",
    "print(\"Implementador de Sistemas\" + \" | \" + ides)\n",
    "print(\"Director of DevOps and IT\" + \" | \" + ddevops)\n",
    "print(\"Research Engineer        \" + \" | \" + re)\n",
    "print(\"                         \" + \" | \" + porcent1)\n"
   ]
  },
  {
   "cell_type": "code",
   "execution_count": 25,
   "id": "80bc4a77-5b56-483a-b616-4001a70f2e61",
   "metadata": {},
   "outputs": [
    {
     "name": "stdout",
     "output_type": "stream",
     "text": [
      "Doctorado     | ------------------------------------------------------------------------------\n",
      "Posgrado      | ------------------------------------------------------------------------------\n",
      "Universitario | --------------------------------------------------------------\n",
      "Terciario     | -----------------------------------------------------\n",
      "Secundario    | --------------------------------------------------\n",
      "              | ------------------------------------------------63%-68%-------79%-------------100%\n"
     ]
    }
   ],
   "source": [
    "\"Nivel de educación alcanzado VS Sueldos\"\n",
    "\n",
    "doct = '-'*78\n",
    "post = '-'*78\n",
    "univ = '-'*62\n",
    "terc = '-'*53\n",
    "sec = '-'*50\n",
    "porcent2 = '-'*48 + \"63%\" + '-'*1 + \"68%\" + '-'*7 + \"79%\" + '-'*13 + \"100%\"\n",
    "\n",
    "print(\"Doctorado    \" + \" | \" + doct)\n",
    "print(\"Posgrado     \" + \" | \" + post)\n",
    "print(\"Universitario\" + \" | \" + univ)\n",
    "print(\"Terciario    \" + \" | \" + terc)\n",
    "print(\"Secundario   \" + \" | \" + sec)\n",
    "print(\"             \" + \" | \" + porcent2)\n"
   ]
  },
  {
   "cell_type": "code",
   "execution_count": 37,
   "id": "a0922551-6224-4ea1-9360-0ce390617348",
   "metadata": {},
   "outputs": [
    {
     "name": "stdout",
     "output_type": "stream",
     "text": [
      "Hombre     | -----------------------------------------------------------------------\n",
      "Mujer      | ------------------------------------------------\n",
      "           | -----------------------------------------------69%---------------------100%\n"
     ]
    }
   ],
   "source": [
    "\"Género VS Sueldos\"\n",
    "\n",
    "hom = '-'*71\n",
    "muj = '-'*48\n",
    "porcent3 = '-'*47 + \"69%\" + '-'*21 + \"100%\"\n",
    "\n",
    "print(\"Hombre    \" + \" | \" + hom)\n",
    "print(\"Mujer     \" + \" | \" + muj)\n",
    "print(\"          \" + \" | \" + porcent3)\n"
   ]
  },
  {
   "cell_type": "code",
   "execution_count": 46,
   "id": "939a2eb4-c6b5-4134-bd24-e813da7f4bf2",
   "metadata": {},
   "outputs": [
    {
     "name": "stdout",
     "output_type": "stream",
     "text": [
      "MySQL                               | ----------------------------------------------------------------------------\n",
      "React.js                            | ----------------------------------------------------\n",
      "PostgreSQL                          | ---------------------------------------------------\n",
      "Veces que se repite en la encuesta  | -----------------------------------------------1018-1044--------------------1523\n"
     ]
    }
   ],
   "source": [
    "\"Tecnologías más populares\"\n",
    "\n",
    "mysql = '-'*76\n",
    "react = '-'*52\n",
    "postgre = '-'*51\n",
    "porcent4 = '-'*47 + \"1018\" + '-'*1 + \"1044\" + '-'*20 + \"1523\"\n",
    "\n",
    "print(\"MySQL                              \" + \" | \" + mysql)\n",
    "print(\"React.js                           \" + \" | \" + react)\n",
    "print(\"PostgreSQL                         \" + \" | \" + postgre)\n",
    "print(\"Veces que se repite en la encuesta \" + \" | \" + porcent4)\n"
   ]
  }
 ],
 "metadata": {
  "kernelspec": {
   "display_name": "Python 3 (ipykernel)",
   "language": "python",
   "name": "python3"
  },
  "language_info": {
   "codemirror_mode": {
    "name": "ipython",
    "version": 3
   },
   "file_extension": ".py",
   "mimetype": "text/x-python",
   "name": "python",
   "nbconvert_exporter": "python",
   "pygments_lexer": "ipython3",
   "version": "3.9.5"
  }
 },
 "nbformat": 4,
 "nbformat_minor": 5
}
